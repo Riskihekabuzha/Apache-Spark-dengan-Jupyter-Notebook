{
 "cells": [
  {
   "cell_type": "code",
   "execution_count": 15,
   "id": "6756d638-3049-4da9-84ca-40e70a2eb9dc",
   "metadata": {
    "scrolled": true
   },
   "outputs": [
    {
     "name": "stdout",
     "output_type": "stream",
     "text": [
      "Downloading from https://www.kaggle.com/api/v1/datasets/download/gauthamp10/google-playstore-apps?dataset_version_number=7...\n"
     ]
    },
    {
     "name": "stderr",
     "output_type": "stream",
     "text": [
      "100%|█████████████████████████████████████████████████████████████████████████████████████████████████████████████████████████████████████████████████| 207M/207M [00:02<00:00, 93.3MB/s]"
     ]
    },
    {
     "name": "stdout",
     "output_type": "stream",
     "text": [
      "Extracting files...\n"
     ]
    },
    {
     "name": "stderr",
     "output_type": "stream",
     "text": [
      "\n"
     ]
    },
    {
     "name": "stdout",
     "output_type": "stream",
     "text": [
      "Path to dataset files: /home/ubuntu/.cache/kagglehub/datasets/gauthamp10/google-playstore-apps/versions/7\n"
     ]
    }
   ],
   "source": [
    "import kagglehub\n",
    "\n",
    "# Download latest version\n",
    "path = kagglehub.dataset_download(\"gauthamp10/google-playstore-apps\")\n",
    "\n",
    "print(\"Path to dataset files:\", path)"
   ]
  },
  {
   "cell_type": "markdown",
   "id": "26df3c87-0354-4d78-a4da-9fcd5dad1647",
   "metadata": {},
   "source": [
    "# Memindahkan data set ke direktori pekerjaan"
   ]
  },
  {
   "cell_type": "code",
   "execution_count": 16,
   "id": "e8596e98-0398-4ff0-8ddf-6ab39a8e0300",
   "metadata": {},
   "outputs": [
    {
     "name": "stdout",
     "output_type": "stream",
     "text": [
      "Google-Playstore.csv\n"
     ]
    }
   ],
   "source": [
    "ls /home/ubuntu/.cache/kagglehub/datasets/gauthamp10/google-playstore-apps/versions/7"
   ]
  },
  {
   "cell_type": "code",
   "execution_count": 19,
   "id": "4d05d08b-898c-406d-90f9-a503855bfbd2",
   "metadata": {},
   "outputs": [],
   "source": [
    "mv  /home/ubuntu/.cache/kagglehub/datasets/gauthamp10/google-playstore-apps/versions/7/Google-Playstore.csv ./"
   ]
  },
  {
   "cell_type": "code",
   "execution_count": 20,
   "id": "8f41113a-df72-4745-acb3-4ab26d4ae4f6",
   "metadata": {},
   "outputs": [
    {
     "name": "stdout",
     "output_type": "stream",
     "text": [
      "Google-Playstore.csv  \u001b[0m\u001b[01;34mbin\u001b[0m/                   \u001b[01;34metc\u001b[0m/  pyvenv.cfg\n",
      "Untitled.ipynb        chords_and_lyrics.csv  \u001b[01;34mlib\u001b[0m/  \u001b[01;34mshare\u001b[0m/\n"
     ]
    }
   ],
   "source": [
    "ls"
   ]
  },
  {
   "cell_type": "markdown",
   "id": "d60f6852-6c68-480d-a501-5cf5e5692a0b",
   "metadata": {},
   "source": [
    "# Membaca Dataset"
   ]
  },
  {
   "cell_type": "code",
   "execution_count": 22,
   "id": "b3c9a704-1b1b-4cc9-8b8c-10341acaccdd",
   "metadata": {},
   "outputs": [
    {
     "name": "stderr",
     "output_type": "stream",
     "text": [
      "[Stage 34:================================================>         (5 + 1) / 6]"
     ]
    },
    {
     "name": "stdout",
     "output_type": "stream",
     "text": [
      "root\n",
      " |-- App Name: string (nullable = true)\n",
      " |-- App Id: string (nullable = true)\n",
      " |-- Category: string (nullable = true)\n",
      " |-- Rating: string (nullable = true)\n",
      " |-- Rating Count: string (nullable = true)\n",
      " |-- Installs: string (nullable = true)\n",
      " |-- Minimum Installs: string (nullable = true)\n",
      " |-- Maximum Installs: string (nullable = true)\n",
      " |-- Free: string (nullable = true)\n",
      " |-- Price: string (nullable = true)\n",
      " |-- Currency: string (nullable = true)\n",
      " |-- Size: string (nullable = true)\n",
      " |-- Minimum Android: string (nullable = true)\n",
      " |-- Developer Id: string (nullable = true)\n",
      " |-- Developer Website: string (nullable = true)\n",
      " |-- Developer Email: string (nullable = true)\n",
      " |-- Released: string (nullable = true)\n",
      " |-- Last Updated: string (nullable = true)\n",
      " |-- Content Rating: string (nullable = true)\n",
      " |-- Privacy Policy: string (nullable = true)\n",
      " |-- Ad Supported: string (nullable = true)\n",
      " |-- In App Purchases: string (nullable = true)\n",
      " |-- Editors Choice: string (nullable = true)\n",
      " |-- Scraped Time: string (nullable = true)\n",
      "\n"
     ]
    },
    {
     "name": "stderr",
     "output_type": "stream",
     "text": [
      "                                                                                "
     ]
    }
   ],
   "source": [
    "from pyspark.sql import SparkSession\n",
    "\n",
    "#Membuat SparkSession\n",
    "spark = SparkSession.builder.appName(\"Schema Example\").getOrCreate()\n",
    "\n",
    "#Membaca Dataset\n",
    "file_path = \"Google-Playstore.csv\"\n",
    "df = spark.read.csv(file_path, header=True, inferSchema=True)\n",
    "\n",
    "#Menampilkan Schema DataFrame\n",
    "df.printSchema()"
   ]
  },
  {
   "cell_type": "code",
   "execution_count": 23,
   "id": "7b65d2c1-039f-4a60-b427-f812a96cc8e2",
   "metadata": {},
   "outputs": [
    {
     "name": "stdout",
     "output_type": "stream",
     "text": [
      "+----------------------------------+------+--------+-----+----+\n",
      "|                          App Name|Rating|Installs|Price|Size|\n",
      "+----------------------------------+------+--------+-----+----+\n",
      "|                           Gakondo|   0.0|     10+|    0| 10M|\n",
      "|               Ampere Battery Info|   4.4|  5,000+|    0|2.9M|\n",
      "|                            Vibook|   0.0|     50+|    0|3.7M|\n",
      "|              Smart City Trichy...|   5.0|     10+|    0|1.8M|\n",
      "|                           GROW.me|   0.0|    100+|    0|6.2M|\n",
      "|                            IMOCCI|   0.0|     50+|    0| 46M|\n",
      "|              unlimited 4G data...|   4.5|  1,000+|    0|2.5M|\n",
      "|              The Everyday Cale...|   2.0|    500+|    0| 16M|\n",
      "|                         WhatsOpen|   0.0|     10+|    0|1.3M|\n",
      "|              Neon 3d Iron Tech...|   4.7| 50,000+|    0|3.5M|\n",
      "|                   Dodge The Cars!|   4.9|    100+|    0| 51M|\n",
      "|                           Parents|   0.0|    100+|    0|2.7M|\n",
      "|桃園機場捷運時刻表 - 捷運轉乘路...|   3.9| 10,000+|    0|7.6M|\n",
      "|                      be.MOBILISED|   0.0|    100+|    0| 15M|\n",
      "|                 Caliway Conductor|   3.7| 10,000+|    0| 29M|\n",
      "|              Readymade Grocery...|   4.2|  1,000+|    0| 12M|\n",
      "|              OTENTIK Discovery FR|   3.4|    500+|    0|2.9M|\n",
      "|              All in one shoppi...|   5.0|     50+|    0|2.0M|\n",
      "|                    REDMOND  Robot|   3.7| 10,000+|    0| 70M|\n",
      "|              Contemporary Love...|   0.0|      1+|    0| 11M|\n",
      "|                   Nepali Congress|   0.0|    100+|    0| 24M|\n",
      "|                 Bhavan's BHEL VIM|   0.0|     10+|    0|1.4M|\n",
      "|              Block Fill: Puzzl...|   4.4| 10,000+|    0| 16M|\n",
      "|              Coloring Book Bar...|   3.8|500,000+|    0| 20M|\n",
      "|              Random Number Gen...|   4.2| 10,000+|    0|2.4M|\n",
      "|                       Sticky Ball|   4.6|    100+|    0| 25M|\n",
      "|                      CUBIC RUNNER|   0.0|  1,000+|    0| 16M|\n",
      "|              Dj Car Sound And ...|   0.0|    100+|    0| 21M|\n",
      "|                        Schoolbus*|   4.1|  1,000+|    0| 11M|\n",
      "|                 Cambodian.Express|   3.4|  1,000+|    0|6.2M|\n",
      "+----------------------------------+------+--------+-----+----+\n",
      "only showing top 30 rows\n",
      "\n",
      "Jumlah kolom Digunakan: 5\n"
     ]
    }
   ],
   "source": [
    "#memilih atrribut untuk digunakan\n",
    "df = df.select('App Name','Rating','Installs', 'Price', 'Size')\n",
    "df.show(30)\n",
    "print(f\"Jumlah kolom Digunakan: {len(df.columns)}\")"
   ]
  },
  {
   "cell_type": "markdown",
   "id": "f03f9cc3-304a-47f9-948f-dbf7225846a8",
   "metadata": {},
   "source": [
    "# Menginisialisasi Spark dan Memuat Data"
   ]
  },
  {
   "cell_type": "code",
   "execution_count": 2,
   "id": "d1acbe32-4a5e-485a-b3f8-ff3d9aa57283",
   "metadata": {},
   "outputs": [
    {
     "name": "stderr",
     "output_type": "stream",
     "text": [
      "                                                                                "
     ]
    },
    {
     "name": "stdout",
     "output_type": "stream",
     "text": [
      "+--------------------+--------------------+-------------+------+------------+--------+----------------+----------------+----+-----+--------+----+---------------+--------------------+--------------------+--------------------+------------+------------+--------------+--------------------+------------+----------------+--------------+-------------------+\n",
      "|            App Name|              App Id|     Category|Rating|Rating Count|Installs|Minimum Installs|Maximum Installs|Free|Price|Currency|Size|Minimum Android|        Developer Id|   Developer Website|     Developer Email|    Released|Last Updated|Content Rating|      Privacy Policy|Ad Supported|In App Purchases|Editors Choice|       Scraped Time|\n",
      "+--------------------+--------------------+-------------+------+------------+--------+----------------+----------------+----+-----+--------+----+---------------+--------------------+--------------------+--------------------+------------+------------+--------------+--------------------+------------+----------------+--------------+-------------------+\n",
      "|             Gakondo| com.ishakwe.gakondo|    Adventure|   0.0|           0|     10+|              10|              15|True|    0|     USD| 10M|     7.1 and up|Jean Confident Ir...|https://beniyizib...|jean21101999@gmai...|Feb 26, 2020|Feb 26, 2020|      Everyone|https://beniyizib...|       False|           False|         False|2021-06-15 20:19:35|\n",
      "| Ampere Battery Info|com.webserveis.ba...|        Tools|   4.4|          64|  5,000+|            5000|            7662|True|    0|     USD|2.9M|     5.0 and up|          Webserveis|https://webservei...|webserveis@gmail.com|May 21, 2020|May 06, 2021|      Everyone|https://dev4phone...|        True|           False|         False|2021-06-15 20:19:35|\n",
      "|              Vibook|com.doantiepvien.crm| Productivity|   0.0|           0|     50+|              50|              58|True|    0|     USD|3.7M|   4.0.3 and up|          Cabin Crew|                null| vnacrewit@gmail.com| Aug 9, 2019|Aug 19, 2019|      Everyone|https://www.vietn...|       False|           False|         False|2021-06-15 20:19:35|\n",
      "|Smart City Trichy...|cst.stJoseph.ug17...|Communication|   5.0|           5|     10+|              10|              19|True|    0|     USD|1.8M|   4.0.3 and up| Climate Smart Tech2|http://www.climat...|climatesmarttech2...|Sep 10, 2018|Oct 13, 2018|      Everyone|                null|        True|           False|         False|2021-06-15 20:19:35|\n",
      "|             GROW.me|com.horodyski.grower|        Tools|   0.0|           0|    100+|             100|             478|True|    0|     USD|6.2M|     4.1 and up|Rafal Milek-Horod...|http://www.horody...|rmilekhorodyski@g...|Feb 21, 2020|Nov 12, 2018|      Everyone|http://www.horody...|       False|           False|         False|2021-06-15 20:19:35|\n",
      "+--------------------+--------------------+-------------+------+------------+--------+----------------+----------------+----+-----+--------+----+---------------+--------------------+--------------------+--------------------+------------+------------+--------------+--------------------+------------+----------------+--------------+-------------------+\n",
      "only showing top 5 rows\n",
      "\n"
     ]
    }
   ],
   "source": [
    "# Menginisialisasi SparkSession\n",
    "from pyspark.sql import SparkSession\n",
    "\n",
    "spark = SparkSession.builder \\\n",
    "    .appName(\"PlayStore Data Analysis\") \\\n",
    "    .master(\"local\") \\\n",
    "    .getOrCreate()\n",
    "\n",
    "# Memuat data CSV atau dari API ke dalam DataFrame Spark\n",
    "df = spark.read.option(\"header\", \"true\").csv(\"Google-Playstore.csv\")\n",
    "\n",
    "# Menampilkan 5 baris pertama untuk memastikan data ter-load dengan benar\n",
    "df.show(5)\n"
   ]
  },
  {
   "cell_type": "code",
   "execution_count": 17,
   "id": "0fc505c2-9d99-480d-8082-6106bd83b635",
   "metadata": {},
   "outputs": [
    {
     "name": "stderr",
     "output_type": "stream",
     "text": [
      "[Stage 28:================================================>         (5 + 1) / 6]"
     ]
    },
    {
     "name": "stdout",
     "output_type": "stream",
     "text": [
      "+--------------------------------+--------------------+--------+-----+----+----+\n",
      "|                        App Name|              Rating|Installs|Price|Size|Free|\n",
      "+--------------------------------+--------------------+--------+-----+----+----+\n",
      "|            \"100 Cool \"\"KANJI...|net.jp.apps.hirot...|     0.0|   10|   0|  10|\n",
      "|\"반려동물 앱이 하나로 통합된 ...|     kr.manse.catdog|     4.6| 2108|   0|1000|\n",
      "|             \"인생수업 (\"\"좋은글|com.storyshare.wi...|     4.7| 4106|   0|1000|\n",
      "|             \"\"\"Gom Day\"\" - Memo|   com.migom.gomharu|     0.0|   15|   0|  10|\n",
      "|            \"\"\"Менщина\"\": новини|com.menshchyna.an...|     4.8|  184|   0| 100|\n",
      "+--------------------------------+--------------------+--------+-----+----+----+\n",
      "only showing top 5 rows\n",
      "\n"
     ]
    },
    {
     "name": "stderr",
     "output_type": "stream",
     "text": [
      "                                                                                "
     ]
    }
   ],
   "source": [
    "# Mengurutkan aplikasi berdasarkan Rating (dari yang tertinggi ke terendah)\n",
    "df_best_rated = df_cleaned.orderBy(col(\"Rating\").desc())\n",
    "\n",
    "# Menampilkan aplikasi dengan rating terbaik\n",
    "df_best_rated.show(5)  # Menampilkan 5 aplikasi dengan rating tertinggi\n"
   ]
  },
  {
   "cell_type": "code",
   "execution_count": 18,
   "id": "851f330c-107f-4dc5-8e89-b70d09986e35",
   "metadata": {},
   "outputs": [
    {
     "name": "stderr",
     "output_type": "stream",
     "text": [
      "[Stage 29:================================================>         (5 + 1) / 6]"
     ]
    },
    {
     "name": "stdout",
     "output_type": "stream",
     "text": [
      "+--------------------+-----------------+--------+-----+----+-----+\n",
      "|            App Name|           Rating|Installs|Price|Size| Free|\n",
      "+--------------------+-----------------+--------+-----+----+-----+\n",
      "|        \"\"\"BaJuBel\"\"|         Shopping|       0| True| USD|   15|\n",
      "|\"\"\"10jimt\"\"Tanjim...|     Productivity|      34| True| USD| 2556|\n",
      "|\"\"\"Thoughts\"\" - Read|           Social|       0| True| USD|   51|\n",
      "|\"\"\"Тайны Микромир...|        Education|      56| True| USD|12844|\n",
      "|\"Book, An \"\"Attic...|Books & Reference|       0| True| USD|    0|\n",
      "+--------------------+-----------------+--------+-----+----+-----+\n",
      "only showing top 5 rows\n",
      "\n"
     ]
    },
    {
     "name": "stderr",
     "output_type": "stream",
     "text": [
      "                                                                                "
     ]
    }
   ],
   "source": [
    "# Mengurutkan aplikasi berdasarkan Harga (dari yang tertinggi ke terendah)\n",
    "df_highest_price = df_cleaned.orderBy(col(\"Price\").desc())\n",
    "\n",
    "# Menampilkan aplikasi dengan harga tertinggi\n",
    "df_highest_price.show(5)  # Menampilkan 5 aplikasi dengan harga tertinggi\n"
   ]
  },
  {
   "cell_type": "code",
   "execution_count": 19,
   "id": "b9f6f5d2-234d-4794-a18e-bdeb153da83e",
   "metadata": {},
   "outputs": [
    {
     "name": "stderr",
     "output_type": "stream",
     "text": [
      "[Stage 30:================================================>         (5 + 1) / 6]"
     ]
    },
    {
     "name": "stdout",
     "output_type": "stream",
     "text": [
      "+--------------------+------+----------+-----+------------------+----+\n",
      "|            App Name|Rating|  Installs|Price|              Size|Free|\n",
      "+--------------------+------+----------+-----+------------------+----+\n",
      "|Grand Robot Lion ...|   4.8|  100,000+|    0|Varies with device|True|\n",
      "|Transmute Robot S...|   3.9|1,000,000+|    0|Varies with device|True|\n",
      "|Mega Ramps Car St...|   4.2|   50,000+|    0|Varies with device|True|\n",
      "|             Shop 13|   4.3|    1,000+|    0|Varies with device|True|\n",
      "|Swedish Game: Wor...|   4.4|   10,000+|    0|Varies with device|True|\n",
      "+--------------------+------+----------+-----+------------------+----+\n",
      "only showing top 5 rows\n",
      "\n"
     ]
    },
    {
     "name": "stderr",
     "output_type": "stream",
     "text": [
      "                                                                                "
     ]
    }
   ],
   "source": [
    "# Mengurutkan aplikasi berdasarkan Ukuran (dari yang terbesar ke terkecil)\n",
    "df_largest_size = df_cleaned.orderBy(col(\"Size\").desc())\n",
    "\n",
    "# Menampilkan aplikasi dengan ukuran terbesar\n",
    "df_largest_size.show(5)  # Menampilkan 5 aplikasi dengan ukuran terbesar\n"
   ]
  },
  {
   "cell_type": "code",
   "execution_count": 21,
   "id": "c6581bb3-0cc2-43d4-b532-b0e7f59366c6",
   "metadata": {},
   "outputs": [
    {
     "name": "stderr",
     "output_type": "stream",
     "text": [
      "[Stage 32:================================================>         (5 + 1) / 6]"
     ]
    },
    {
     "name": "stdout",
     "output_type": "stream",
     "text": [
      "+--------------------------------+--------------------+--------+-----+----+----+\n",
      "|                        App Name|              Rating|Installs|Price|Size|Free|\n",
      "+--------------------------------+--------------------+--------+-----+----+----+\n",
      "|            \"100 Cool \"\"KANJI...|net.jp.apps.hirot...|     0.0|   10|   0|  10|\n",
      "|\"반려동물 앱이 하나로 통합된 ...|     kr.manse.catdog|     4.6| 2108|   0|1000|\n",
      "|             \"인생수업 (\"\"좋은글|com.storyshare.wi...|     4.7| 4106|   0|1000|\n",
      "|             \"\"\"Gom Day\"\" - Memo|   com.migom.gomharu|     0.0|   15|   0|  10|\n",
      "|            \"\"\"Менщина\"\": новини|com.menshchyna.an...|     4.8|  184|   0| 100|\n",
      "+--------------------------------+--------------------+--------+-----+----+----+\n",
      "only showing top 5 rows\n",
      "\n"
     ]
    },
    {
     "name": "stderr",
     "output_type": "stream",
     "text": [
      "                                                                                "
     ]
    }
   ],
   "source": [
    "# Mengurutkan aplikasi berdasarkan Rating tertinggi dan Harga tertinggi\n",
    "df_best_apps_combined = df_cleaned.orderBy(col(\"Rating\").desc(), col(\"Price\").desc())\n",
    "\n",
    "# Menampilkan aplikasi terbaik berdasarkan rating dan harga\n",
    "df_best_apps_combined.show(5)  # Menampilkan 5 aplikasi terbaik berdasarkan rating dan harga\n"
   ]
  },
  {
   "cell_type": "code",
   "execution_count": 24,
   "id": "3823ea24-386e-4dd2-8ec5-c74f84acca6e",
   "metadata": {},
   "outputs": [
    {
     "name": "stderr",
     "output_type": "stream",
     "text": [
      "[Stage 36:================================================>         (5 + 1) / 6]"
     ]
    },
    {
     "name": "stdout",
     "output_type": "stream",
     "text": [
      "+--------------------------------+--------------------+--------+-----+----+----+\n",
      "|                        App Name|              Rating|Installs|Price|Size|Free|\n",
      "+--------------------------------+--------------------+--------+-----+----+----+\n",
      "|            \"100 Cool \"\"KANJI...|net.jp.apps.hirot...|     0.0|   10|   0|  10|\n",
      "|\"반려동물 앱이 하나로 통합된 ...|     kr.manse.catdog|     4.6| 2108|   0|1000|\n",
      "|             \"인생수업 (\"\"좋은글|com.storyshare.wi...|     4.7| 4106|   0|1000|\n",
      "|             \"\"\"Gom Day\"\" - Memo|   com.migom.gomharu|     0.0|   15|   0|  10|\n",
      "|            \"\"\"Менщина\"\": новини|com.menshchyna.an...|     4.8|  184|   0| 100|\n",
      "+--------------------------------+--------------------+--------+-----+----+----+\n",
      "only showing top 5 rows\n",
      "\n"
     ]
    },
    {
     "name": "stderr",
     "output_type": "stream",
     "text": [
      "                                                                                "
     ]
    }
   ],
   "source": [
    "# Mengurutkan aplikasi berdasarkan Rating tertinggi dan Harga tertinggi\n",
    "df_best_apps_combined = df_cleaned.orderBy(col(\"Rating\").desc(), col(\"Price\").desc())\n",
    "\n",
    "# Menampilkan aplikasi terbaik berdasarkan rating dan harga\n",
    "df_best_apps_combined.show(5)  # Menampilkan 5 aplikasi terbaik berdasarkan rating dan harga\n"
   ]
  },
  {
   "cell_type": "code",
   "execution_count": 25,
   "id": "ef8e846d-e229-4ed4-ae81-7fce54544ba0",
   "metadata": {},
   "outputs": [
    {
     "name": "stderr",
     "output_type": "stream",
     "text": [
      "[Stage 37:================================================>         (5 + 1) / 6]"
     ]
    },
    {
     "name": "stdout",
     "output_type": "stream",
     "text": [
      "+--------------------+--------------------+--------+-----+----+----+\n",
      "|            App Name|              Rating|Installs|Price|Size|Free|\n",
      "+--------------------+--------------------+--------+-----+----+----+\n",
      "|\"100 Cool \"\"KANJI...|net.jp.apps.hirot...|     0.0|   10|   0|  10|\n",
      "| \"인생수업 (\"\"좋은글|com.storyshare.wi...|     4.7| 4106|   0|1000|\n",
      "| \"\"\"Gom Day\"\" - Memo|   com.migom.gomharu|     0.0|   15|   0|  10|\n",
      "|\"\"\"Менщина\"\": новини|com.menshchyna.an...|     4.8|  184|   0| 100|\n",
      "|\"Cricket Alpha - ...|com.ksmps.cricket...|     0.0|   15|   0|  10|\n",
      "+--------------------+--------------------+--------+-----+----+----+\n",
      "only showing top 5 rows\n",
      "\n"
     ]
    },
    {
     "name": "stderr",
     "output_type": "stream",
     "text": [
      "                                                                                "
     ]
    }
   ],
   "source": [
    "# Menyaring aplikasi yang direkomendasikan (misalnya berdasarkan kolom 'Editors Choice')\n",
    "df_editor_choice = df_cleaned.filter(col(\"Editors Choice\") == \"True\")\n",
    "\n",
    "# Mengurutkan aplikasi yang direkomendasikan berdasarkan Rating (dari yang tertinggi ke terendah)\n",
    "df_editor_choice_sorted = df_editor_choice.orderBy(col(\"Rating\").desc())\n",
    "\n",
    "# Menampilkan aplikasi yang direkomendasikan dengan rating terbaik\n",
    "df_editor_choice_sorted.show(5)\n"
   ]
  },
  {
   "cell_type": "code",
   "execution_count": null,
   "id": "e1f48269-3986-44ed-8fde-ed78ab81cf84",
   "metadata": {},
   "outputs": [],
   "source": []
  }
 ],
 "metadata": {
  "kernelspec": {
   "display_name": "Python 3 (ipykernel)",
   "language": "python",
   "name": "python3"
  },
  "language_info": {
   "codemirror_mode": {
    "name": "ipython",
    "version": 3
   },
   "file_extension": ".py",
   "mimetype": "text/x-python",
   "name": "python",
   "nbconvert_exporter": "python",
   "pygments_lexer": "ipython3",
   "version": "3.12.3"
  }
 },
 "nbformat": 4,
 "nbformat_minor": 5
}
